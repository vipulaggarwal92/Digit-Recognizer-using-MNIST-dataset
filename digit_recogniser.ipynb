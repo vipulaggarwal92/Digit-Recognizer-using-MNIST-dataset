{
 "cells": [
  {
   "cell_type": "markdown",
   "metadata": {
    "colab_type": "raw",
    "id": "vmfd-CRQXPSL"
   },
   "source": [
    "**To-Do**\n",
    "Draw image of each digit\n",
    "get the distinct keys from dataset \n",
    "get the index positions in train data \n",
    "using g = plt.imshow(X_train[0][:,:,0]) - draw the diagram "
   ]
  },
  {
   "cell_type": "code",
   "execution_count": null,
   "metadata": {
    "colab": {},
    "colab_type": "code",
    "id": "EE0VsCqXXPSR"
   },
   "outputs": [],
   "source": [
    "def get_digits_data(data):\n",
    "    test = data.drop_duplicates('label')\n",
    "    return test"
   ]
  },
  {
   "cell_type": "code",
   "execution_count": 3,
   "metadata": {
    "colab": {
     "base_uri": "https://localhost:8080/",
     "height": 122
    },
    "colab_type": "code",
    "executionInfo": {
     "elapsed": 20250,
     "status": "ok",
     "timestamp": 1580537287336,
     "user": {
      "displayName": "Pawanjeet Kaur",
      "photoUrl": "",
      "userId": "12094232627341648080"
     },
     "user_tz": 360
    },
    "id": "FrnOBufdXRwk",
    "outputId": "0cf11062-886f-47d6-cfe9-da6c2a5f9ee3"
   },
   "outputs": [
    {
     "name": "stdout",
     "output_type": "stream",
     "text": [
      "Go to this URL in a browser: https://accounts.google.com/o/oauth2/auth?client_id=947318989803-6bn6qk8qdgf4n4g3pfee6491hc0brc4i.apps.googleusercontent.com&redirect_uri=urn%3aietf%3awg%3aoauth%3a2.0%3aoob&response_type=code&scope=email%20https%3a%2f%2fwww.googleapis.com%2fauth%2fdocs.test%20https%3a%2f%2fwww.googleapis.com%2fauth%2fdrive%20https%3a%2f%2fwww.googleapis.com%2fauth%2fdrive.photos.readonly%20https%3a%2f%2fwww.googleapis.com%2fauth%2fpeopleapi.readonly\n",
      "\n",
      "Enter your authorization code:\n",
      "··········\n",
      "Mounted at /content/gdrive\n"
     ]
    }
   ],
   "source": [
    "from google.colab import drive\n",
    "drive.mount('/content/gdrive')"
   ]
  },
  {
   "cell_type": "code",
   "execution_count": null,
   "metadata": {
    "colab": {},
    "colab_type": "code",
    "id": "2Dpgr6MxXPSU"
   },
   "outputs": [],
   "source": [
    "import pandas as pd\n",
    "\n",
    "train_data = pd.read_csv('gdrive/My Drive/HW_1/train.csv')\n",
    "test_data = pd.read_csv('gdrive/My Drive//HW_1/test.csv')\n",
    "\n",
    "Y_train = train_data[\"label\"]\n",
    "X_train = train_data.drop(\"label\", axis=1)\n",
    "\n",
    "#print(test_data)\n",
    "#Y_test = test_data[\"label\"]\n",
    "#X_test = test_data.drop(\"label\", axis=1)"
   ]
  },
  {
   "cell_type": "code",
   "execution_count": 1,
   "metadata": {
    "colab": {
     "base_uri": "https://localhost:8080/",
     "height": 34
    },
    "colab_type": "code",
    "executionInfo": {
     "elapsed": 1472,
     "status": "ok",
     "timestamp": 1580537301841,
     "user": {
      "displayName": "Pawanjeet Kaur",
      "photoUrl": "",
      "userId": "12094232627341648080"
     },
     "user_tz": 360
    },
    "id": "FzunB8-4XPSY",
    "outputId": "c9f8b829-e08f-4433-8fe3-563a1811f1fa"
   },
   "outputs": [
    {
     "ename": "NameError",
     "evalue": "name 'train_data' is not defined",
     "output_type": "error",
     "traceback": [
      "\u001b[1;31m---------------------------------------------------------------------------\u001b[0m",
      "\u001b[1;31mNameError\u001b[0m                                 Traceback (most recent call last)",
      "\u001b[1;32m<ipython-input-1-02aef055c31c>\u001b[0m in \u001b[0;36m<module>\u001b[1;34m\u001b[0m\n\u001b[0;32m      1\u001b[0m \u001b[1;31m#data_all_digits = get_digits_data(train_data)\u001b[0m\u001b[1;33m\u001b[0m\u001b[1;33m\u001b[0m\u001b[1;33m\u001b[0m\u001b[0m\n\u001b[1;32m----> 2\u001b[1;33m \u001b[0mtrain_data\u001b[0m\u001b[1;33m.\u001b[0m\u001b[0mshape\u001b[0m\u001b[1;33m\u001b[0m\u001b[1;33m\u001b[0m\u001b[0m\n\u001b[0m\u001b[0;32m      3\u001b[0m \u001b[0mX_train\u001b[0m\u001b[1;33m.\u001b[0m\u001b[0mshape\u001b[0m\u001b[1;33m\u001b[0m\u001b[1;33m\u001b[0m\u001b[0m\n",
      "\u001b[1;31mNameError\u001b[0m: name 'train_data' is not defined"
     ]
    }
   ],
   "source": [
    "#data_all_digits = get_digits_data(train_data)\n",
    "train_data.shape"
   ]
  },
  {
   "cell_type": "code",
   "execution_count": null,
   "metadata": {
    "colab": {},
    "colab_type": "code",
    "id": "GhHSaEFwXPSa"
   },
   "outputs": [],
   "source": [
    "import matplotlib.pyplot as plt \n",
    "import numpy as np\n",
    "\n",
    "j = 1\n",
    "def print_image(x_val):\n",
    "    x_val = np.array(x_val)\n",
    "    reshaped_mat = x_val.reshape((28,28))\n",
    "    global j\n",
    "    plt.subplot(2,5, j)\n",
    "    j = j + 1\n",
    "    g = plt.imshow(reshaped_mat, cmap = 'gray')\n",
    "    return"
   ]
  },
  {
   "cell_type": "code",
   "execution_count": null,
   "metadata": {
    "colab": {},
    "colab_type": "code",
    "id": "ltr6FCP0XPSf"
   },
   "outputs": [],
   "source": [
    "data_all_digits = data_all_digits.drop(\"label\", axis=1)"
   ]
  },
  {
   "cell_type": "code",
   "execution_count": 29,
   "metadata": {
    "colab": {
     "base_uri": "https://localhost:8080/",
     "height": 414
    },
    "colab_type": "code",
    "executionInfo": {
     "elapsed": 7514,
     "status": "ok",
     "timestamp": 1580343960523,
     "user": {
      "displayName": "Pawanjeet Kaur",
      "photoUrl": "",
      "userId": "12094232627341648080"
     },
     "user_tz": 360
    },
    "id": "Xmt6hWwvXPSi",
    "outputId": "330356ff-b302-4a3a-bee4-a47adbce806a"
   },
   "outputs": [
    {
     "data": {
      "text/plain": [
       "0     None\n",
       "1     None\n",
       "3     None\n",
       "6     None\n",
       "7     None\n",
       "8     None\n",
       "10    None\n",
       "11    None\n",
       "16    None\n",
       "21    None\n",
       "dtype: object"
      ]
     },
     "execution_count": 29,
     "metadata": {
      "tags": []
     },
     "output_type": "execute_result"
    },
    {
     "data": {
      "image/png": "[encoded data removed]",
      "text/plain": [
       "<Figure size 432x288 with 10 Axes>"
      ]
     },
     "metadata": {
      "tags": []
     },
     "output_type": "display_data"
    }
   ],
   "source": [
    "data_all_digits.apply(print_image, axis =1)"
   ]
  },
  {
   "cell_type": "markdown",
   "metadata": {
    "colab_type": "raw",
    "id": "ke38i87VXPSn"
   },
   "source": [
    "Measure the distribution over the labels in the training data. (Hint: This is often called\n",
    "the prior probability of the classes). Report whether each label is uniformly distributed\n",
    "across the training examples."
   ]
  },
  {
   "cell_type": "code",
   "execution_count": null,
   "metadata": {
    "colab": {},
    "colab_type": "code",
    "id": "iituSQIEXPSn"
   },
   "outputs": [],
   "source": [
    "distribution = Y_train.value_counts(normalize=True)\n"
   ]
  },
  {
   "cell_type": "code",
   "execution_count": 31,
   "metadata": {
    "colab": {
     "base_uri": "https://localhost:8080/",
     "height": 282
    },
    "colab_type": "code",
    "executionInfo": {
     "elapsed": 7505,
     "status": "ok",
     "timestamp": 1580343960525,
     "user": {
      "displayName": "Pawanjeet Kaur",
      "photoUrl": "",
      "userId": "12094232627341648080"
     },
     "user_tz": 360
    },
    "id": "_bH_9KrrXPSq",
    "outputId": "997cc705-c4be-4a84-da4a-2f0ea1f7f347"
   },
   "outputs": [
    {
     "data": {
      "text/plain": [
       "<matplotlib.axes._subplots.AxesSubplot at 0x7f2b0dc46470>"
      ]
     },
     "execution_count": 31,
     "metadata": {
      "tags": []
     },
     "output_type": "execute_result"
    },
    {
     "data": {
      "image/png": "[encoded data removed]",
      "text/plain": [
       "<Figure size 432x288 with 1 Axes>"
      ]
     },
     "metadata": {
      "tags": []
     },
     "output_type": "display_data"
    }
   ],
   "source": [
    "import seaborn\n",
    "seaborn.barplot(x=distribution.index, y=distribution)"
   ]
  },
  {
   "cell_type": "markdown",
   "metadata": {
    "colab_type": "raw",
    "id": "0ugomblRXPSs"
   },
   "source": [
    "Distribution is uniform over all the labels."
   ]
  },
  {
   "cell_type": "markdown",
   "metadata": {
    "colab_type": "raw",
    "id": "hOseQhLyXPSu"
   },
   "source": [
    "Implement a multiclass classification via logistic regression and try to vary the parameters\n",
    "so that you can achieve the best performance on our Kaggle dataset. (Hint: Feel free to\n",
    "refer to the code,2 but note that you should use the dataset downloaded from Kaggle!)"
   ]
  },
  {
   "cell_type": "code",
   "execution_count": 32,
   "metadata": {
    "colab": {
     "base_uri": "https://localhost:8080/",
     "height": 136
    },
    "colab_type": "code",
    "executionInfo": {
     "elapsed": 8515,
     "status": "ok",
     "timestamp": 1580343961543,
     "user": {
      "displayName": "Pawanjeet Kaur",
      "photoUrl": "",
      "userId": "12094232627341648080"
     },
     "user_tz": 360
    },
    "id": "f2-Q8zqBXPSv",
    "outputId": "4b2762b3-899b-4b61-a376-baa30fd9c860"
   },
   "outputs": [
    {
     "data": {
      "text/plain": [
       "array([[0., 0., 0., ..., 0., 0., 0.],\n",
       "       [0., 0., 0., ..., 0., 0., 0.],\n",
       "       [0., 0., 0., ..., 0., 0., 0.],\n",
       "       ...,\n",
       "       [0., 0., 0., ..., 0., 0., 0.],\n",
       "       [0., 0., 0., ..., 0., 0., 0.],\n",
       "       [0., 0., 0., ..., 0., 0., 0.]])"
      ]
     },
     "execution_count": 32,
     "metadata": {
      "tags": []
     },
     "output_type": "execute_result"
    }
   ],
   "source": [
    "# Standarize the data \n",
    "from sklearn.preprocessing import StandardScaler\n",
    "\n",
    "scaler = StandardScaler()\n",
    "X_train = scaler.fit_transform(X_train)\n",
    "\n",
    "X_train"
   ]
  },
  {
   "cell_type": "markdown",
   "metadata": {
    "colab_type": "raw",
    "id": "-vRCy_SjXPSy"
   },
   "source": [
    "dual - false , tol - Tolerance for stopping criteria. , C = Inverse of regularization strength; must be a positive float , solver - SAGA (https://arxiv.org/abs/1407.0202)   , class_weight=’balanced’"
   ]
  },
  {
   "cell_type": "code",
   "execution_count": 33,
   "metadata": {
    "colab": {
     "base_uri": "https://localhost:8080/",
     "height": 102
    },
    "colab_type": "code",
    "executionInfo": {
     "elapsed": 20921,
     "status": "ok",
     "timestamp": 1580343974033,
     "user": {
      "displayName": "Pawanjeet Kaur",
      "photoUrl": "",
      "userId": "12094232627341648080"
     },
     "user_tz": 360
    },
    "id": "bnyrvttVXPSz",
    "outputId": "989dd24c-e042-4412-cd29-62c0e22f4279"
   },
   "outputs": [
    {
     "data": {
      "text/plain": [
       "LogisticRegression(C=0.001388888888888889, class_weight='balanced', dual=False,\n",
       "                   fit_intercept=True, intercept_scaling=1, l1_ratio=None,\n",
       "                   max_iter=100, multi_class='auto', n_jobs=None, penalty='l1',\n",
       "                   random_state=None, solver='saga', tol=0.1, verbose=0,\n",
       "                   warm_start=False)"
      ]
     },
     "execution_count": 33,
     "metadata": {
      "tags": []
     },
     "output_type": "execute_result"
    }
   ],
   "source": [
    "random_seed = 3\n",
    "from sklearn.linear_model import LogisticRegression\n",
    "from sklearn.model_selection import train_test_split\n",
    "\n",
    "train_img, test_img, train_lbl, test_lbl = train_test_split(\n",
    "    X_train, Y_train, test_size=1/7.0, random_state=122)\n",
    "\n",
    "train_samples = train_img.shape[0]\n",
    "\n",
    "model_1 = LogisticRegression(\n",
    "    C=50. / train_samples, penalty='l1', solver='saga', tol=0.1, class_weight='balanced')\n",
    "\n",
    "model_1.fit(train_img, train_lbl)"
   ]
  },
  {
   "cell_type": "code",
   "execution_count": null,
   "metadata": {
    "colab": {},
    "colab_type": "code",
    "id": "BTl0EwCPXPS2"
   },
   "outputs": [],
   "source": [
    "sparsity = np.mean(model_1.coef_ == 0) * 100\n",
    "score = model_1.score(test_img, test_lbl)"
   ]
  },
  {
   "cell_type": "code",
   "execution_count": 35,
   "metadata": {
    "colab": {
     "base_uri": "https://localhost:8080/",
     "height": 68
    },
    "colab_type": "code",
    "executionInfo": {
     "elapsed": 20887,
     "status": "ok",
     "timestamp": 1580343974035,
     "user": {
      "displayName": "Pawanjeet Kaur",
      "photoUrl": "",
      "userId": "12094232627341648080"
     },
     "user_tz": 360
    },
    "id": "3jQ3ZmV4XPS4",
    "outputId": "56da7cb8-0899-4ad6-e133-0f910832d3fc"
   },
   "outputs": [
    {
     "name": "stdout",
     "output_type": "stream",
     "text": [
      "80.82908163265307\n",
      "0.8416666666666667\n"
     ]
    },
    {
     "data": {
      "text/plain": [
       "(10, 784)"
      ]
     },
     "execution_count": 35,
     "metadata": {
      "tags": []
     },
     "output_type": "execute_result"
    }
   ],
   "source": [
    "print(sparsity)\n",
    "print(score)\n",
    "\n",
    "model_1.coef_.shape"
   ]
  },
  {
   "cell_type": "code",
   "execution_count": 36,
   "metadata": {
    "colab": {
     "base_uri": "https://localhost:8080/",
     "height": 51
    },
    "colab_type": "code",
    "executionInfo": {
     "elapsed": 20972,
     "status": "ok",
     "timestamp": 1580343974142,
     "user": {
      "displayName": "Pawanjeet Kaur",
      "photoUrl": "",
      "userId": "12094232627341648080"
     },
     "user_tz": 360
    },
    "id": "UcA9WqLPXPS7",
    "outputId": "09d7c376-62ae-4c37-ad48-a430cf6ab96d"
   },
   "outputs": [
    {
     "name": "stdout",
     "output_type": "stream",
     "text": [
      "Misclassified samples: 950\n",
      "Accuracy: 0.84\n"
     ]
    }
   ],
   "source": [
    "from sklearn import metrics\n",
    "\n",
    "y_pred = model_1.predict(test_img)\n",
    "count_misclassified = (test_lbl != y_pred).sum()\n",
    "\n",
    "print('Misclassified samples: {}'.format(count_misclassified))\n",
    "accuracy = metrics.accuracy_score(test_lbl, y_pred)\n",
    "print('Accuracy: {:.2f}'.format(accuracy))"
   ]
  },
  {
   "cell_type": "markdown",
   "metadata": {
    "colab_type": "raw",
    "id": "Nt9AM2MxXPS-"
   },
   "source": [
    "Neural Network with different parameteres \n",
    "-Convert the multiclass labels to one hot encoded to treat every class as different output\n",
    "-then divide the train and test data "
   ]
  },
  {
   "cell_type": "code",
   "execution_count": null,
   "metadata": {
    "colab": {},
    "colab_type": "code",
    "id": "5xguZrsTXPS_"
   },
   "outputs": [],
   "source": [
    "from keras.utils.np_utils import to_categorical\n",
    "\n",
    "Y_train = to_categorical(Y_train, num_classes = 10)"
   ]
  },
  {
   "cell_type": "code",
   "execution_count": null,
   "metadata": {
    "colab": {},
    "colab_type": "code",
    "id": "6w4shIJlXPTC"
   },
   "outputs": [],
   "source": [
    "random_seed = 2\n",
    "\n",
    "X_train_nn, X_val_nn, Y_train_nn, Y_val_nn = train_test_split(X_train, Y_train, test_size = 0.1, random_state=random_seed)"
   ]
  },
  {
   "cell_type": "markdown",
   "metadata": {
    "colab_type": "raw",
    "id": "JXVhRadIXPTE"
   },
   "source": [
    "Starting the neural network with 2 layers \n",
    "Takes 784 input and map to 100 nodes in first hidden layer with relu and in second layer maps to 25 and outputs 10 classes\n",
    "784 -> 100 -> 25 -> 10"
   ]
  },
  {
   "cell_type": "code",
   "execution_count": null,
   "metadata": {
    "colab": {},
    "colab_type": "code",
    "id": "wytHN9-YXPTF"
   },
   "outputs": [],
   "source": [
    "from keras.models import Sequential\n",
    "from keras.layers import Dense\n",
    "from keras.wrappers.scikit_learn import KerasClassifier\n",
    "from sklearn.model_selection import KFold\n",
    "from sklearn.model_selection import cross_val_score\n",
    "\n",
    "class NN_MODEL:\n",
    "        \n",
    "    def __init__(self, hidden_layers_nodes_input = 0 , output_nodes_input = 0, input_dim_size_input = 0):\n",
    "        self.hidden_layers_nodes = hidden_layers_nodes_input\n",
    "        self.output_layer_nodes = output_nodes_input\n",
    "        self.input_dim_size = input_dim_size_input\n",
    "    \n",
    "    def nnn_model(self):\n",
    "        model = Sequential()\n",
    "        num_layers = len(self.hidden_layers_nodes)\n",
    " \n",
    "        for i in range(num_layers):\n",
    "            num_nodes = self.hidden_layers_nodes[i]\n",
    "            if i == 1:\n",
    "                model.add(Dense(num_nodes, input_dim=self.input_dim_size, activation='relu'))\n",
    "            else:\n",
    "                model.add(Dense(self.hidden_layers_nodes[i], activation='relu'))\n",
    "\n",
    "        #output layer - softmax to ensure output is in range 0-1\n",
    "        model.add(Dense(self.output_layer_nodes, activation='softmax'))\n",
    "    \n",
    "        # compile model and return \n",
    "        model.compile(loss='categorical_crossentropy', optimizer='adam', metrics=['accuracy'])\n",
    "        return model\n",
    "    \n",
    "    def print_test(self):\n",
    "        print(self.hidden_layers_nodes)\n",
    "        print(self.output_layer_nodes)\n",
    "        print(self.input_dim_size)"
   ]
  },
  {
   "cell_type": "code",
   "execution_count": null,
   "metadata": {
    "colab": {},
    "colab_type": "code",
    "id": "dhs1DbNPXPTI"
   },
   "outputs": [],
   "source": [
    "# One Layer With 100 nodes \n",
    "input_dim_size_input = X_train_nn.shape[1]\n",
    "hidden_layers_nodes_input = [100]\n",
    "output_nodes_input = 10\n",
    "\n",
    "nn_model = NN_MODEL(hidden_layers_nodes_input, output_nodes_input , input_dim_size_input)"
   ]
  },
  {
   "cell_type": "code",
   "execution_count": 41,
   "metadata": {
    "colab": {
     "base_uri": "https://localhost:8080/",
     "height": 34
    },
    "colab_type": "code",
    "executionInfo": {
     "elapsed": 322378,
     "status": "ok",
     "timestamp": 1580344275585,
     "user": {
      "displayName": "Pawanjeet Kaur",
      "photoUrl": "",
      "userId": "12094232627341648080"
     },
     "user_tz": 360
    },
    "id": "3uOW4m3fXPTK",
    "outputId": "099908ad-270e-4cf7-debe-fa98e52a4905"
   },
   "outputs": [
    {
     "name": "stdout",
     "output_type": "stream",
     "text": [
      "Baseline: 95.04% (0.75%)\n"
     ]
    }
   ],
   "source": [
    "estimator = KerasClassifier(build_fn=nn_model.nnn_model, epochs=2, batch_size=5, verbose=0)\n",
    "\n",
    "\n",
    "kfold = KFold(n_splits=10, shuffle=True)\n",
    "results = cross_val_score(estimator, X_train_nn,Y_train_nn, cv=kfold)\n",
    "print(\"Baseline: %.2f%% (%.2f%%)\" % (results.mean()*100, results.std()*100))"
   ]
  },
  {
   "cell_type": "code",
   "execution_count": null,
   "metadata": {
    "colab": {},
    "colab_type": "code",
    "id": "w4yNsYIkXPTO"
   },
   "outputs": [],
   "source": [
    "# Grid search common neural net parameters like learning rate, dropout rate, epochs and number of neurons\n",
    "# Tuning batch size and number of epochs \n",
    "\n",
    "from sklearn.model_selection import GridSearchCV\n",
    "\n",
    "def run_grid_cv(param_grid):\n",
    "    \n",
    "    grid=GridSearchCV(estimator=estimator,param_grid=param_grid,n_jobs=-1)\n",
    "    grid_result=grid.fit(X_train_nn,Y_train_nn)\n",
    "\n",
    "    # summarize results\n",
    "    print(\"Best: %f using %s\"%(grid_result.best_score_,grid_result.best_params_))\n",
    "    means=grid_result.cv_results_['mean_test_score']\n",
    "    stds=grid_result.cv_results_['std_test_score']\n",
    "    params=grid_result.cv_results_['params']\n",
    "    \n",
    "    for mean,stdev,param in zip(means,stds,params):\n",
    "         print(\"%f (%f) with: %r\"%(mean,stdev,param))"
   ]
  },
  {
   "cell_type": "code",
   "execution_count": null,
   "metadata": {
    "colab": {},
    "colab_type": "code",
    "id": "ZqVNBtb7XPTQ"
   },
   "outputs": [],
   "source": [
    "batch_size=[10,20,40]\n",
    "epochs=[10,50]\n",
    "\n",
    "param_grid= dict(batch_size=batch_size,epochs=epochs)\n"
   ]
  },
  {
   "cell_type": "code",
   "execution_count": 44,
   "metadata": {
    "colab": {
     "base_uri": "https://localhost:8080/",
     "height": 190
    },
    "colab_type": "code",
    "executionInfo": {
     "elapsed": 1076936,
     "status": "ok",
     "timestamp": 1580346680723,
     "user": {
      "displayName": "Pawanjeet Kaur",
      "photoUrl": "",
      "userId": "12094232627341648080"
     },
     "user_tz": 360
    },
    "id": "MP2Vu9SOZQjs",
    "outputId": "7ec5ef30-63b2-44b6-a1cf-4e46f40be680"
   },
   "outputs": [
    {
     "name": "stderr",
     "output_type": "stream",
     "text": [
      "/usr/local/lib/python3.6/dist-packages/joblib/externals/loky/process_executor.py:706: UserWarning: A worker stopped while some jobs were given to the executor. This can be caused by a too short worker timeout or by a memory leak.\n",
      "  \"timeout or by a memory leak.\", UserWarning\n"
     ]
    },
    {
     "name": "stdout",
     "output_type": "stream",
     "text": [
      "Best: 0.965344 using {'batch_size': 40, 'epochs': 50}\n",
      "0.959735 (0.005562) with: {'batch_size': 10, 'epochs': 10}\n",
      "0.962037 (0.001935) with: {'batch_size': 10, 'epochs': 50}\n",
      "0.962593 (0.001914) with: {'batch_size': 20, 'epochs': 10}\n",
      "0.964974 (0.002422) with: {'batch_size': 20, 'epochs': 50}\n",
      "0.962963 (0.002659) with: {'batch_size': 40, 'epochs': 10}\n",
      "0.965344 (0.001692) with: {'batch_size': 40, 'epochs': 50}\n"
     ]
    }
   ],
   "source": [
    "run_grid_cv(param_grid)"
   ]
  },
  {
   "cell_type": "code",
   "execution_count": 46,
   "metadata": {
    "colab": {
     "base_uri": "https://localhost:8080/",
     "height": 884
    },
    "colab_type": "code",
    "executionInfo": {
     "elapsed": 437177,
     "status": "ok",
     "timestamp": 1580357693958,
     "user": {
      "displayName": "Pawanjeet Kaur",
      "photoUrl": "",
      "userId": "12094232627341648080"
     },
     "user_tz": 360
    },
    "id": "bFbnPB-EZVu1",
    "outputId": "0fe08bb6-d524-4073-c252-8cbe97c295eb"
   },
   "outputs": [
    {
     "name": "stdout",
     "output_type": "stream",
     "text": [
      "Epoch 1/2\n",
      "34020/34020 [==============================] - 21s 619us/step - loss: 0.2819 - acc: 0.9198\n",
      "Epoch 2/2\n",
      "34020/34020 [==============================] - 19s 546us/step - loss: 0.1512 - acc: 0.9562\n",
      "3780/3780 [==============================] - 1s 366us/step\n",
      "Epoch 1/2\n",
      "34020/34020 [==============================] - 22s 632us/step - loss: 0.2848 - acc: 0.9166\n",
      "Epoch 2/2\n",
      "34020/34020 [==============================] - 19s 571us/step - loss: 0.1523 - acc: 0.9554\n",
      "3780/3780 [==============================] - 1s 373us/step\n",
      "Epoch 1/2\n",
      "34020/34020 [==============================] - 21s 619us/step - loss: 0.2739 - acc: 0.9208\n",
      "Epoch 2/2\n",
      "34020/34020 [==============================] - 19s 562us/step - loss: 0.1474 - acc: 0.9585\n",
      "3780/3780 [==============================] - 1s 384us/step\n",
      "Epoch 1/2\n",
      "34020/34020 [==============================] - 21s 611us/step - loss: 0.2845 - acc: 0.9165\n",
      "Epoch 2/2\n",
      "34020/34020 [==============================] - 19s 560us/step - loss: 0.1526 - acc: 0.9565\n",
      "3780/3780 [==============================] - 1s 393us/step\n",
      "Epoch 1/2\n",
      "34020/34020 [==============================] - 22s 643us/step - loss: 0.2841 - acc: 0.9187\n",
      "Epoch 2/2\n",
      "34020/34020 [==============================] - 19s 571us/step - loss: 0.1493 - acc: 0.9586\n",
      "3780/3780 [==============================] - 2s 399us/step\n",
      "Epoch 1/2\n",
      "34020/34020 [==============================] - 22s 641us/step - loss: 0.2896 - acc: 0.9170\n",
      "Epoch 2/2\n",
      "34020/34020 [==============================] - 21s 616us/step - loss: 0.1487 - acc: 0.9563\n",
      "3780/3780 [==============================] - 2s 408us/step\n",
      "Epoch 1/2\n",
      "34020/34020 [==============================] - 21s 625us/step - loss: 0.2883 - acc: 0.9177\n",
      "Epoch 2/2\n",
      "34020/34020 [==============================] - 20s 579us/step - loss: 0.1463 - acc: 0.9572\n",
      "3780/3780 [==============================] - 2s 435us/step\n",
      "Epoch 1/2\n",
      "34020/34020 [==============================] - 22s 656us/step - loss: 0.2773 - acc: 0.9206\n",
      "Epoch 2/2\n",
      "34020/34020 [==============================] - 21s 614us/step - loss: 0.1560 - acc: 0.9571\n",
      "3780/3780 [==============================] - 2s 445us/step\n",
      "Epoch 1/2\n",
      "34020/34020 [==============================] - 22s 660us/step - loss: 0.2908 - acc: 0.9170\n",
      "Epoch 2/2\n",
      "34020/34020 [==============================] - 20s 601us/step - loss: 0.1594 - acc: 0.9555\n",
      "3780/3780 [==============================] - 2s 456us/step\n",
      "Epoch 1/2\n",
      "34020/34020 [==============================] - 23s 679us/step - loss: 0.2814 - acc: 0.9193\n",
      "Epoch 2/2\n",
      "34020/34020 [==============================] - 21s 624us/step - loss: 0.1469 - acc: 0.9583\n",
      "3780/3780 [==============================] - 2s 462us/step\n",
      "Baseline: 95.35% (0.40%)\n"
     ]
    }
   ],
   "source": [
    "# create model with 2 hidden layers of  size 100 and 25 \n",
    "\n",
    "input_dim_size_input_1 = X_train_nn.shape[1]\n",
    "hidden_layers_nodes_input_1 = [100, 25]\n",
    "output_nodes_input_1 = 10\n",
    "\n",
    "nn_model_1 = NN_MODEL(hidden_layers_nodes_input_1, output_nodes_input_1 , input_dim_size_input_1)\n",
    "\n",
    "estimator_1 = KerasClassifier(build_fn=nn_model_1.nnn_model, epochs=2, batch_size=5, verbose=1)\n",
    "\n",
    "\n",
    "kfold = KFold(n_splits=10, shuffle=True)\n",
    "results = cross_val_score(estimator_1, X_train_nn,Y_train_nn, cv=kfold)\n",
    "print(\"Baseline: %.2f%% (%.2f%%)\" % (results.mean()*100, results.std()*100))"
   ]
  },
  {
   "cell_type": "code",
   "execution_count": null,
   "metadata": {
    "colab": {},
    "colab_type": "code",
    "id": "BFtdMsien1IT"
   },
   "outputs": [],
   "source": []
  }
 ],
 "metadata": {
  "colab": {
   "name": "digit_recogniser.ipynb",
   "provenance": []
  },
  "kernelspec": {
   "display_name": "Python 3",
   "language": "python",
   "name": "python3"
  },
  "language_info": {
   "codemirror_mode": {
    "name": "ipython",
    "version": 3
   },
   "file_extension": ".py",
   "mimetype": "text/x-python",
   "name": "python",
   "nbconvert_exporter": "python",
   "pygments_lexer": "ipython3",
   "version": "3.7.4"
  }
 },
 "nbformat": 4,
 "nbformat_minor": 4
}
